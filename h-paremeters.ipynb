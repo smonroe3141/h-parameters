{
 "cells": [
  {
   "cell_type": "markdown",
   "metadata": {},
   "source": [
    "# h-parameters"
   ]
  },
  {
   "cell_type": "markdown",
   "metadata": {},
   "source": [
    "h-parameters are based upon the following port-scheme,"
   ]
  },
  {
   "cell_type": "markdown",
   "metadata": {},
   "source": [
    "<img src=\"Two-port_parameters.PNG\" alt=\"General Two-port defintion\">"
   ]
  },
  {
   "cell_type": "markdown",
   "metadata": {},
   "source": [
    "The definitions of the currents and voltages follow:<br>\n",
    "\n",
    "<style type=\"text/css\">\n",
    ".tg  {border-collapse:collapse;border-spacing:0;margin:0px auto;}\n",
    ".tg td{font-family:Arial, sans-serif;font-size:14px;padding:10px 5px;border-style:solid;border-width:1px;overflow:hidden;word-break:normal;}\n",
    ".tg th{font-family:Arial, sans-serif;font-size:14px;font-weight:normal;padding:10px 5px;border-style:solid;border-width:1px;overflow:hidden;word-break:normal;}\n",
    ".tg .tg-yw4l{vertical-align:top}\n",
    "</style>\n",
    "<table class=\"tg\">\n",
    "  <tr>\n",
    "    <th class=\"tg-yw4\">Parameter</th>\n",
    "    <th class=\"tg-yw4l\">Representation</th>\n",
    "  </tr>\n",
    "  <tr>\n",
    "    <td class=\"tg-yw4l\">$$V_1$$</td>\n",
    "    <td class=\"tg-yw4l\">Voltage across port 1</td>\n",
    "  </tr>\n",
    "  <tr>\n",
    "    <td class=\"tg-yw4l\">$$I_1$$</td>\n",
    "    <td class=\"tg-yw4l\">Current into port 1</td>\n",
    "  </tr>\n",
    "  <tr>\n",
    "    <td class=\"tg-yw4l\">$$V_2$$</td>\n",
    "    <td class=\"tg-yw4l\">Voltage across port 2</td>\n",
    "  </tr>\n",
    "  <tr>\n",
    "    <td class=\"tg-yw4l\">$$I_2$$</td>\n",
    "    <td class=\"tg-yw4l\">Current into port 2</td>\n",
    "  </tr>\n",
    "</table>"
   ]
  },
  {
   "cell_type": "markdown",
   "metadata": {},
   "source": [
    "<img src=\"h-parameter_port_def.PNG\" alt=\"h-parameter definition\">"
   ]
  },
  {
   "cell_type": "markdown",
   "metadata": {},
   "source": [
    "$${\\begin{aligned}h_{11}\\,&{\\stackrel {\\text{def}}{=}}\\,\\left.{\\frac {V_{1}}{I_{1}}}\\right|_{V_{2}=0}\\qquad h_{12}\\,{\\stackrel {\\text{def}}{=}}\\,\\left.{\\frac {V_{1}}{V_{2}}}\\right|_{I_{1}=0}\\\\h_{21}\\,&{\\stackrel {\\text{def}}{=}}\\,\\left.{\\frac {I_{2}}{I_{1}}}\\right|_{V_{2}=0}\\qquad h_{22}\\,{\\stackrel {\\text{def}}{=}}\\,\\left.{\\frac {I_{2}}{V_{2}}}\\right|_{I_{1}=0}\\end{aligned}}$$"
   ]
  },
  {
   "cell_type": "markdown",
   "metadata": {},
   "source": [
    "Note that each h-parameter assumes either a short or an open at the indicated terminal: where you see $V_2=0$, a short condition is indicated.  Where you see $I_1=0$,  an open condition is indicated."
   ]
  },
  {
   "cell_type": "markdown",
   "metadata": {},
   "source": [
    "<style type=\"text/css\">\n",
    ".tg  {border-collapse:collapse;border-spacing:0;}\n",
    ".tg td{font-family:Arial, sans-serif;font-size:14px;padding:10px 5px;border-style:solid;border-width:1px;overflow:hidden;word-break:normal;}\n",
    ".tg th{font-family:Arial, sans-serif;font-size:14px;font-weight:normal;padding:10px 5px;border-style:solid;border-width:1px;overflow:hidden;word-break:normal;}\n",
    ".tg .tg-yw4l{vertical-align:top}\n",
    "</style>\n",
    "<table class=\"tg\">\n",
    "  <tr>\n",
    "    <th class=\"tg-yw4l\">General parameter</th>\n",
    "    <th class=\"tg-yw4l\">Common Emitter</th>\n",
    "    <th class=\"tg-yw4l\">Common Base</th>\n",
    "    <th class=\"tg-yw4l\">Common Collector</th>\n",
    "  </tr>\n",
    "  <tr>\n",
    "    <td class=\"tg-yw4l\">$h_{11}$</td>\n",
    "    <td class=\"tg-yw4l\">$h_{ie}$</td>\n",
    "    <td class=\"tg-yw4l\">$h_{ib}$</td>\n",
    "    <td class=\"tg-yw4l\">$h_{ic}$</td>\n",
    "  </tr>\n",
    "  <tr>\n",
    "    <td class=\"tg-yw4l\">$h_{12}$</td>\n",
    "    <td class=\"tg-yw4l\">$h_{re}$</td>\n",
    "    <td class=\"tg-yw4l\">$h_{rb}$</td>\n",
    "    <td class=\"tg-yw4l\">$h_{rc}$</td>\n",
    "  </tr>\n",
    "  <tr>\n",
    "    <td class=\"tg-yw4l\">$h_{21}$</td>\n",
    "    <td class=\"tg-yw4l\">$h_{fe}$</td>\n",
    "    <td class=\"tg-yw4l\">$h_{fb}$</td>\n",
    "    <td class=\"tg-yw4l\">$h_{fc}$</td>\n",
    "  </tr>\n",
    "  <tr>\n",
    "    <td class=\"tg-yw4l\">$h_{22}$</td>\n",
    "    <td class=\"tg-yw4l\">$h_{oe}$</td>\n",
    "    <td class=\"tg-yw4l\">$h_{ob}$</td>\n",
    "    <td class=\"tg-yw4l\">$h_{oc}$</td>\n",
    "  </tr>\n",
    "</table>"
   ]
  }
 ],
 "metadata": {
  "anaconda-cloud": {},
  "kernelspec": {
   "display_name": "Python [conda root]",
   "language": "python",
   "name": "conda-root-py"
  },
  "language_info": {
   "codemirror_mode": {
    "name": "ipython",
    "version": 3
   },
   "file_extension": ".py",
   "mimetype": "text/x-python",
   "name": "python",
   "nbconvert_exporter": "python",
   "pygments_lexer": "ipython3",
   "version": "3.5.2"
  }
 },
 "nbformat": 4,
 "nbformat_minor": 1
}
